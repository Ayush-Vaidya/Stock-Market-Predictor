{
 "cells": [
  {
   "attachments": {},
   "cell_type": "markdown",
   "metadata": {},
   "source": [
    "# **Stock Price Prediction using Stacked LSTM(A Backpropagation Algorithm)**\n"
   ]
  },
  {
   "attachments": {},
   "cell_type": "markdown",
   "metadata": {},
   "source": [
    "Group - 2\n",
    "\n",
    
    "- Nikhil Chaurasiya - 20BAI10106\n",
    
    "- Ayush Vaidya - 20BAI10286\n",
    
   ]
  },
  {
   "cell_type": "markdown",
   "metadata": {},
   "source": [
    "Here we will be reading some basic libraries"
   ]
  },
  {
   "cell_type": "code",
   "execution_count": 1,
   "metadata": {},
   "outputs": [],
   "source": [
    "import numpy as np\n",
    "import pandas as pd\n"
   ]
  },
  {
   "cell_type": "markdown",
   "metadata": {},
   "source": [
    "Read dataset which was given <br> \n",
    "Link- \"https://raw.githubusercontent.com/mwitiderrick/stockprice/master/NSE-TATAGLOBAL.csv\"\n"
   ]
  },
  {
   "cell_type": "code",
   "execution_count": 2,
   "metadata": {},
   "outputs": [
    {
     "data": {
      "text/html": [
       "<div>\n",
       "<style scoped>\n",
       "    .dataframe tbody tr th:only-of-type {\n",
       "        vertical-align: middle;\n",
       "    }\n",
       "\n",
       "    .dataframe tbody tr th {\n",
       "        vertical-align: top;\n",
       "    }\n",
       "\n",
       "    .dataframe thead th {\n",
       "        text-align: right;\n",
       "    }\n",
       "</style>\n",
       "<table border=\"1\" class=\"dataframe\">\n",
       "  <thead>\n",
       "    <tr style=\"text-align: right;\">\n",
       "      <th></th>\n",
       "      <th>Date</th>\n",
       "      <th>Open</th>\n",
       "      <th>High</th>\n",
       "      <th>Low</th>\n",
       "      <th>Last</th>\n",
       "      <th>Close</th>\n",
       "      <th>Total Trade Quantity</th>\n",
       "      <th>Turnover (Lacs)</th>\n",
       "    </tr>\n",
       "  </thead>\n",
       "  <tbody>\n",
       "    <tr>\n",
       "      <th>0</th>\n",
       "      <td>2018-09-28</td>\n",
       "      <td>234.05</td>\n",
       "      <td>235.95</td>\n",
       "      <td>230.20</td>\n",
       "      <td>233.50</td>\n",
       "      <td>233.75</td>\n",
       "      <td>3069914</td>\n",
       "      <td>7162.35</td>\n",
       "    </tr>\n",
       "    <tr>\n",
       "      <th>1</th>\n",
       "      <td>2018-09-27</td>\n",
       "      <td>234.55</td>\n",
       "      <td>236.80</td>\n",
       "      <td>231.10</td>\n",
       "      <td>233.80</td>\n",
       "      <td>233.25</td>\n",
       "      <td>5082859</td>\n",
       "      <td>11859.95</td>\n",
       "    </tr>\n",
       "    <tr>\n",
       "      <th>2</th>\n",
       "      <td>2018-09-26</td>\n",
       "      <td>240.00</td>\n",
       "      <td>240.00</td>\n",
       "      <td>232.50</td>\n",
       "      <td>235.00</td>\n",
       "      <td>234.25</td>\n",
       "      <td>2240909</td>\n",
       "      <td>5248.60</td>\n",
       "    </tr>\n",
       "    <tr>\n",
       "      <th>3</th>\n",
       "      <td>2018-09-25</td>\n",
       "      <td>233.30</td>\n",
       "      <td>236.75</td>\n",
       "      <td>232.00</td>\n",
       "      <td>236.25</td>\n",
       "      <td>236.10</td>\n",
       "      <td>2349368</td>\n",
       "      <td>5503.90</td>\n",
       "    </tr>\n",
       "    <tr>\n",
       "      <th>4</th>\n",
       "      <td>2018-09-24</td>\n",
       "      <td>233.55</td>\n",
       "      <td>239.20</td>\n",
       "      <td>230.75</td>\n",
       "      <td>234.00</td>\n",
       "      <td>233.30</td>\n",
       "      <td>3423509</td>\n",
       "      <td>7999.55</td>\n",
       "    </tr>\n",
       "    <tr>\n",
       "      <th>...</th>\n",
       "      <td>...</td>\n",
       "      <td>...</td>\n",
       "      <td>...</td>\n",
       "      <td>...</td>\n",
       "      <td>...</td>\n",
       "      <td>...</td>\n",
       "      <td>...</td>\n",
       "      <td>...</td>\n",
       "    </tr>\n",
       "    <tr>\n",
       "      <th>2030</th>\n",
       "      <td>2010-07-27</td>\n",
       "      <td>117.60</td>\n",
       "      <td>119.50</td>\n",
       "      <td>112.00</td>\n",
       "      <td>118.80</td>\n",
       "      <td>118.65</td>\n",
       "      <td>586100</td>\n",
       "      <td>694.98</td>\n",
       "    </tr>\n",
       "    <tr>\n",
       "      <th>2031</th>\n",
       "      <td>2010-07-26</td>\n",
       "      <td>120.10</td>\n",
       "      <td>121.00</td>\n",
       "      <td>117.10</td>\n",
       "      <td>117.10</td>\n",
       "      <td>117.60</td>\n",
       "      <td>658440</td>\n",
       "      <td>780.01</td>\n",
       "    </tr>\n",
       "    <tr>\n",
       "      <th>2032</th>\n",
       "      <td>2010-07-23</td>\n",
       "      <td>121.80</td>\n",
       "      <td>121.95</td>\n",
       "      <td>120.25</td>\n",
       "      <td>120.35</td>\n",
       "      <td>120.65</td>\n",
       "      <td>281312</td>\n",
       "      <td>340.31</td>\n",
       "    </tr>\n",
       "    <tr>\n",
       "      <th>2033</th>\n",
       "      <td>2010-07-22</td>\n",
       "      <td>120.30</td>\n",
       "      <td>122.00</td>\n",
       "      <td>120.25</td>\n",
       "      <td>120.75</td>\n",
       "      <td>120.90</td>\n",
       "      <td>293312</td>\n",
       "      <td>355.17</td>\n",
       "    </tr>\n",
       "    <tr>\n",
       "      <th>2034</th>\n",
       "      <td>2010-07-21</td>\n",
       "      <td>122.10</td>\n",
       "      <td>123.00</td>\n",
       "      <td>121.05</td>\n",
       "      <td>121.10</td>\n",
       "      <td>121.55</td>\n",
       "      <td>658666</td>\n",
       "      <td>803.56</td>\n",
       "    </tr>\n",
       "  </tbody>\n",
       "</table>\n",
       "<p>2035 rows × 8 columns</p>\n",
       "</div>"
      ],
      "text/plain": [
       "            Date    Open    High     Low    Last   Close  \\\n",
       "0     2018-09-28  234.05  235.95  230.20  233.50  233.75   \n",
       "1     2018-09-27  234.55  236.80  231.10  233.80  233.25   \n",
       "2     2018-09-26  240.00  240.00  232.50  235.00  234.25   \n",
       "3     2018-09-25  233.30  236.75  232.00  236.25  236.10   \n",
       "4     2018-09-24  233.55  239.20  230.75  234.00  233.30   \n",
       "...          ...     ...     ...     ...     ...     ...   \n",
       "2030  2010-07-27  117.60  119.50  112.00  118.80  118.65   \n",
       "2031  2010-07-26  120.10  121.00  117.10  117.10  117.60   \n",
       "2032  2010-07-23  121.80  121.95  120.25  120.35  120.65   \n",
       "2033  2010-07-22  120.30  122.00  120.25  120.75  120.90   \n",
       "2034  2010-07-21  122.10  123.00  121.05  121.10  121.55   \n",
       "\n",
       "      Total Trade Quantity  Turnover (Lacs)  \n",
       "0                  3069914          7162.35  \n",
       "1                  5082859         11859.95  \n",
       "2                  2240909          5248.60  \n",
       "3                  2349368          5503.90  \n",
       "4                  3423509          7999.55  \n",
       "...                    ...              ...  \n",
       "2030                586100           694.98  \n",
       "2031                658440           780.01  \n",
       "2032                281312           340.31  \n",
       "2033                293312           355.17  \n",
       "2034                658666           803.56  \n",
       "\n",
       "[2035 rows x 8 columns]"
      ]
     },
     "execution_count": 2,
     "metadata": {},
     "output_type": "execute_result"
    }
   ],
   "source": [
    "dataset=pd.read_csv(\"/Users/nikhil/Documents/LGMVIP data science Internship/Stock Market Prediction Stacked LSTM/NSE-TATAGLOBAL.csv\")\n",
    "dataset"
   ]
  },
  {
   "cell_type": "code",
   "execution_count": 3,
   "metadata": {},
   "outputs": [
    {
     "data": {
      "text/plain": [
       "(2035, 8)"
      ]
     },
     "execution_count": 3,
     "metadata": {},
     "output_type": "execute_result"
    }
   ],
   "source": [
    "dataset.shape"
   ]
  },
  {
   "cell_type": "code",
   "execution_count": 4,
   "metadata": {},
   "outputs": [
    {
     "data": {
      "text/plain": [
       "Date                    False\n",
       "Open                    False\n",
       "High                    False\n",
       "Low                     False\n",
       "Last                    False\n",
       "Close                   False\n",
       "Total Trade Quantity    False\n",
       "Turnover (Lacs)         False\n",
       "dtype: bool"
      ]
     },
     "execution_count": 4,
     "metadata": {},
     "output_type": "execute_result"
    }
   ],
   "source": [
    "dataset.isnull().any()"
   ]
  },
  {
   "cell_type": "code",
   "execution_count": 5,
   "metadata": {},
   "outputs": [],
   "source": [
    "dataframe=dataset.reset_index()['Close']\n",
    "\n",
    "# dataset['Date']"
   ]
  },
  {
   "cell_type": "code",
   "execution_count": 6,
   "metadata": {},
   "outputs": [
    {
     "data": {
      "text/plain": [
       "0       233.75\n",
       "1       233.25\n",
       "2       234.25\n",
       "3       236.10\n",
       "4       233.30\n",
       "         ...  \n",
       "2030    118.65\n",
       "2031    117.60\n",
       "2032    120.65\n",
       "2033    120.90\n",
       "2034    121.55\n",
       "Name: Close, Length: 2035, dtype: float64"
      ]
     },
     "execution_count": 6,
     "metadata": {},
     "output_type": "execute_result"
    }
   ],
   "source": [
    "dataframe"
   ]
  },
  {
   "cell_type": "code",
   "execution_count": 7,
   "metadata": {},
   "outputs": [
    {
     "data": {
      "text/plain": [
       "(2035,)"
      ]
     },
     "execution_count": 7,
     "metadata": {},
     "output_type": "execute_result"
    }
   ],
   "source": [
    "dataframe.shape"
   ]
  },
  {
   "cell_type": "code",
   "execution_count": 8,
   "metadata": {},
   "outputs": [],
   "source": [
    "import matplotlib.pyplot as plt"
   ]
  },
  {
   "cell_type": "code",
   "execution_count": 9,
   "metadata": {},
   "outputs": [
    {
     "data": {
      "text/plain": [
       "[<matplotlib.lines.Line2D at 0x145c554c0>]"
      ]
     },
     "execution_count": 9,
     "metadata": {},
     "output_type": "execute_result"
    },
    {
     "data": {
      "image/png": "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",
      "text/plain": [
       "<Figure size 1066.67x666.667 with 1 Axes>"
      ]
     },
     "metadata": {},
     "output_type": "display_data"
    }
   ],
   "source": [
    "plt.figure(figsize=(16/1.5,10/1.5))\n",
    "plt.plot(dataframe,)"
   ]
  },
  {
   "cell_type": "markdown",
   "metadata": {},
   "source": [
    "Feature scaling for this data , we are using Standard Scaler her, as we see values are so near by. "
   ]
  },
  {
   "cell_type": "code",
   "execution_count": 10,
   "metadata": {},
   "outputs": [
    {
     "data": {
      "text/plain": [
       "(2035, 1)"
      ]
     },
     "execution_count": 10,
     "metadata": {},
     "output_type": "execute_result"
    }
   ],
   "source": [
    "# Feature Scaling\n",
    "from sklearn.preprocessing import MinMaxScaler\n",
    "scaler=MinMaxScaler(feature_range=(0,1))\n",
    "df2=scaler.fit_transform(np.array(dataframe).reshape(-1,1))\n",
    "df2.shape"
   ]
  },
  {
   "cell_type": "code",
   "execution_count": 11,
   "metadata": {},
   "outputs": [
    {
     "data": {
      "text/plain": [
       "array([[0.62418301],\n",
       "       [0.62214052],\n",
       "       [0.62622549],\n",
       "       ...,\n",
       "       [0.1621732 ],\n",
       "       [0.16319444],\n",
       "       [0.16584967]])"
      ]
     },
     "execution_count": 11,
     "metadata": {},
     "output_type": "execute_result"
    }
   ],
   "source": [
    "df2"
   ]
  },
  {
   "cell_type": "code",
   "execution_count": 12,
   "metadata": {},
   "outputs": [],
   "source": [
    "from sklearn.model_selection import train_test_split"
   ]
  },
  {
   "cell_type": "code",
   "execution_count": 13,
   "metadata": {},
   "outputs": [],
   "source": [
    "training_size=int(len(df2)*0.65)\n",
    "test_size=len(df2)-training_size\n",
    "train_data,test_data=df2[0:training_size,:], df2[training_size:len(df2),:1]"
   ]
  },
  {
   "cell_type": "code",
   "execution_count": 14,
   "metadata": {},
   "outputs": [],
   "source": [
    "# X_train,X_test= train_test_split(df2,test_size=0.35,random_state=10)"
   ]
  },
  {
   "cell_type": "code",
   "execution_count": 15,
   "metadata": {},
   "outputs": [
    {
     "data": {
      "text/plain": [
       "(1322, 713)"
      ]
     },
     "execution_count": 15,
     "metadata": {},
     "output_type": "execute_result"
    }
   ],
   "source": [
    "training_size,test_size"
   ]
  },
  {
   "cell_type": "code",
   "execution_count": 16,
   "metadata": {},
   "outputs": [],
   "source": [
    "# print(training_size.shape)\n",
    "# test_size.shape"
   ]
  },
  {
   "cell_type": "markdown",
   "metadata": {},
   "source": [
    "Function to split datasel into X_train,Y_train, X_test,_Y_test"
   ]
  },
  {
   "cell_type": "code",
   "execution_count": 17,
   "metadata": {},
   "outputs": [],
   "source": [
    "def x_y_data(data,timestep=1):\n",
    "      leng=len(data)\n",
    "      X=[]\n",
    "      Y=[]\n",
    "      for length in range(0, leng-timestep-1) :\n",
    "            X.append(data[length:(length+timestep),0])\n",
    "            Y.append(data[length+1,0])\n",
    "      return np.array(X),np.array(Y)"
   ]
  },
  {
   "cell_type": "code",
   "execution_count": 18,
   "metadata": {},
   "outputs": [],
   "source": [
    "timestep=100\n",
    "X_train,Y_train=x_y_data(train_data,timestep)\n",
    "X_test,Y_test=x_y_data(test_data,timestep)"
   ]
  },
  {
   "cell_type": "code",
   "execution_count": 19,
   "metadata": {},
   "outputs": [
    {
     "name": "stdout",
     "output_type": "stream",
     "text": [
      "(1221, 1)\n",
      "(612, 100)\n",
      "(1221, 100)\n",
      "(612, 100)\n",
      "(1221,)\n",
      "(612,)\n"
     ]
    }
   ],
   "source": [
    "# just for explorig what we got after splitting data set \n",
    "m=pd.DataFrame(Y_train)\n",
    "n=pd.DataFrame(X_test)\n",
    "print(m.shape)\n",
    "print(n.shape)\n",
    "print(X_train.shape)\n",
    "print(X_test.shape)\n",
    "print(Y_train.shape)\n",
    "print(Y_test.shape)"
   ]
  },
  {
   "cell_type": "markdown",
   "metadata": {},
   "source": [
    "Now as we have got our splitted dataset<br> lets go to LSTM model for training"
   ]
  },
  {
   "cell_type": "code",
   "execution_count": 20,
   "metadata": {},
   "outputs": [],
   "source": [
    "X_train=X_train.reshape(X_train.shape[0], X_train.shape[1], 1)\n",
    "X_test=X_test.reshape(X_test.shape[0], X_test.shape[1], 1)"
   ]
  },
  {
   "cell_type": "code",
   "execution_count": 21,
   "metadata": {},
   "outputs": [
    {
     "data": {
      "text/plain": [
       "(1221, 100, 1)"
      ]
     },
     "execution_count": 21,
     "metadata": {},
     "output_type": "execute_result"
    }
   ],
   "source": [
    "X_train.shape"
   ]
  },
  {
   "cell_type": "code",
   "execution_count": 22,
   "metadata": {},
   "outputs": [],
   "source": [
    "from tensorflow.keras.models import Sequential\n",
    "from tensorflow.keras.layers import Dense\n",
    "from tensorflow.keras.layers import LSTM"
   ]
  },
  {
   "cell_type": "code",
   "execution_count": 23,
   "metadata": {},
   "outputs": [
    {
     "name": "stderr",
     "output_type": "stream",
     "text": [
      "2023-03-13 16:50:37.191216: I tensorflow/core/common_runtime/pluggable_device/pluggable_device_factory.cc:306] Could not identify NUMA node of platform GPU ID 0, defaulting to 0. Your kernel may not have been built with NUMA support.\n",
      "2023-03-13 16:50:37.191555: I tensorflow/core/common_runtime/pluggable_device/pluggable_device_factory.cc:272] Created TensorFlow device (/job:localhost/replica:0/task:0/device:GPU:0 with 0 MB memory) -> physical PluggableDevice (device: 0, name: METAL, pci bus id: <undefined>)\n"
     ]
    },
    {
     "name": "stdout",
     "output_type": "stream",
     "text": [
      "Metal device set to: Apple M1\n",
      "\n",
      "systemMemory: 16.00 GB\n",
      "maxCacheSize: 5.33 GB\n",
      "\n"
     ]
    }
   ],
   "source": [
    "model=Sequential()\n",
    "model.add(LSTM(50, return_sequences=True,input_shape=(100,1)))\n",
    "model.add(LSTM(50,return_sequences=True))\n",
    "model.add(LSTM(50))\n",
    "model.add(Dense(1))\n",
    "model.compile(loss='mean_squared_error',optimizer=\"adam\")"
   ]
  },
  {
   "cell_type": "code",
   "execution_count": 24,
   "metadata": {},
   "outputs": [
    {
     "name": "stdout",
     "output_type": "stream",
     "text": [
      "Model: \"sequential\"\n",
      "_________________________________________________________________\n",
      " Layer (type)                Output Shape              Param #   \n",
      "=================================================================\n",
      " lstm (LSTM)                 (None, 100, 50)           10400     \n",
      "                                                                 \n",
      " lstm_1 (LSTM)               (None, 100, 50)           20200     \n",
      "                                                                 \n",
      " lstm_2 (LSTM)               (None, 50)                20200     \n",
      "                                                                 \n",
      " dense (Dense)               (None, 1)                 51        \n",
      "                                                                 \n",
      "=================================================================\n",
      "Total params: 50,851\n",
      "Trainable params: 50,851\n",
      "Non-trainable params: 0\n",
      "_________________________________________________________________\n"
     ]
    }
   ],
   "source": [
    "model.summary()"
   ]
  },
  {
   "cell_type": "code",
   "execution_count": 25,
   "metadata": {},
   "outputs": [
    {
     "name": "stdout",
     "output_type": "stream",
     "text": [
      "Epoch 1/200\n"
     ]
    },
    {
     "name": "stderr",
     "output_type": "stream",
     "text": [
      "2023-03-13 16:50:38.218249: W tensorflow/tsl/platform/profile_utils/cpu_utils.cc:128] Failed to get CPU frequency: 0 Hz\n",
      "2023-03-13 16:50:40.350139: I tensorflow/core/grappler/optimizers/custom_graph_optimizer_registry.cc:114] Plugin optimizer for device_type GPU is enabled.\n",
      "2023-03-13 16:50:40.931708: I tensorflow/core/grappler/optimizers/custom_graph_optimizer_registry.cc:114] Plugin optimizer for device_type GPU is enabled.\n",
      "2023-03-13 16:50:42.760101: I tensorflow/core/grappler/optimizers/custom_graph_optimizer_registry.cc:114] Plugin optimizer for device_type GPU is enabled.\n",
      "2023-03-13 16:50:43.051255: I tensorflow/core/grappler/optimizers/custom_graph_optimizer_registry.cc:114] Plugin optimizer for device_type GPU is enabled.\n",
      "2023-03-13 16:50:44.303967: W tensorflow/core/framework/op_kernel.cc:1830] OP_REQUIRES failed at xla_ops.cc:418 : NOT_FOUND: could not find registered platform with id: 0x1625f57f0\n",
      "2023-03-13 16:50:44.307362: I tensorflow/core/grappler/optimizers/custom_graph_optimizer_registry.cc:114] Plugin optimizer for device_type GPU is enabled.\n",
      "2023-03-13 16:50:44.343492: W tensorflow/core/framework/op_kernel.cc:1830] OP_REQUIRES failed at xla_ops.cc:418 : NOT_FOUND: could not find registered platform with id: 0x1625f57f0\n"
     ]
    },
    {
     "ename": "NotFoundError",
     "evalue": "Graph execution error:\n\nDetected at node 'StatefulPartitionedCall_10' defined at (most recent call last):\n    File \"/opt/homebrew/Caskroom/miniforge/base/envs/ml/lib/python3.8/runpy.py\", line 194, in _run_module_as_main\n      return _run_code(code, main_globals, None,\n    File \"/opt/homebrew/Caskroom/miniforge/base/envs/ml/lib/python3.8/runpy.py\", line 87, in _run_code\n      exec(code, run_globals)\n    File \"/opt/homebrew/Caskroom/miniforge/base/envs/ml/lib/python3.8/site-packages/ipykernel_launcher.py\", line 17, in <module>\n      app.launch_new_instance()\n    File \"/opt/homebrew/Caskroom/miniforge/base/envs/ml/lib/python3.8/site-packages/traitlets/config/application.py\", line 1041, in launch_instance\n      app.start()\n    File \"/opt/homebrew/Caskroom/miniforge/base/envs/ml/lib/python3.8/site-packages/ipykernel/kernelapp.py\", line 724, in start\n      self.io_loop.start()\n    File \"/opt/homebrew/Caskroom/miniforge/base/envs/ml/lib/python3.8/site-packages/tornado/platform/asyncio.py\", line 215, in start\n      self.asyncio_loop.run_forever()\n    File \"/opt/homebrew/Caskroom/miniforge/base/envs/ml/lib/python3.8/asyncio/base_events.py\", line 570, in run_forever\n      self._run_once()\n    File \"/opt/homebrew/Caskroom/miniforge/base/envs/ml/lib/python3.8/asyncio/base_events.py\", line 1859, in _run_once\n      handle._run()\n    File \"/opt/homebrew/Caskroom/miniforge/base/envs/ml/lib/python3.8/asyncio/events.py\", line 81, in _run\n      self._context.run(self._callback, *self._args)\n    File \"/opt/homebrew/Caskroom/miniforge/base/envs/ml/lib/python3.8/site-packages/ipykernel/kernelbase.py\", line 512, in dispatch_queue\n      await self.process_one()\n    File \"/opt/homebrew/Caskroom/miniforge/base/envs/ml/lib/python3.8/site-packages/ipykernel/kernelbase.py\", line 501, in process_one\n      await dispatch(*args)\n    File \"/opt/homebrew/Caskroom/miniforge/base/envs/ml/lib/python3.8/site-packages/ipykernel/kernelbase.py\", line 408, in dispatch_shell\n      await result\n    File \"/opt/homebrew/Caskroom/miniforge/base/envs/ml/lib/python3.8/site-packages/ipykernel/kernelbase.py\", line 731, in execute_request\n      reply_content = await reply_content\n    File \"/opt/homebrew/Caskroom/miniforge/base/envs/ml/lib/python3.8/site-packages/ipykernel/ipkernel.py\", line 417, in do_execute\n      res = shell.run_cell(\n    File \"/opt/homebrew/Caskroom/miniforge/base/envs/ml/lib/python3.8/site-packages/ipykernel/zmqshell.py\", line 540, in run_cell\n      return super().run_cell(*args, **kwargs)\n    File \"/opt/homebrew/Caskroom/miniforge/base/envs/ml/lib/python3.8/site-packages/IPython/core/interactiveshell.py\", line 2945, in run_cell\n      result = self._run_cell(\n    File \"/opt/homebrew/Caskroom/miniforge/base/envs/ml/lib/python3.8/site-packages/IPython/core/interactiveshell.py\", line 3000, in _run_cell\n      return runner(coro)\n    File \"/opt/homebrew/Caskroom/miniforge/base/envs/ml/lib/python3.8/site-packages/IPython/core/async_helpers.py\", line 129, in _pseudo_sync_runner\n      coro.send(None)\n    File \"/opt/homebrew/Caskroom/miniforge/base/envs/ml/lib/python3.8/site-packages/IPython/core/interactiveshell.py\", line 3203, in run_cell_async\n      has_raised = await self.run_ast_nodes(code_ast.body, cell_name,\n    File \"/opt/homebrew/Caskroom/miniforge/base/envs/ml/lib/python3.8/site-packages/IPython/core/interactiveshell.py\", line 3382, in run_ast_nodes\n      if await self.run_code(code, result, async_=asy):\n    File \"/opt/homebrew/Caskroom/miniforge/base/envs/ml/lib/python3.8/site-packages/IPython/core/interactiveshell.py\", line 3442, in run_code\n      exec(code_obj, self.user_global_ns, self.user_ns)\n    File \"/var/folders/_9/j788256j04l0rf54jz7ntfvw0000gn/T/ipykernel_21545/2281231562.py\", line 1, in <module>\n      model.fit(X_train,Y_train,validation_data=(X_test,Y_test),epochs=200,batch_size=15,verbose=1)\n    File \"/opt/homebrew/Caskroom/miniforge/base/envs/ml/lib/python3.8/site-packages/keras/utils/traceback_utils.py\", line 65, in error_handler\n      return fn(*args, **kwargs)\n    File \"/opt/homebrew/Caskroom/miniforge/base/envs/ml/lib/python3.8/site-packages/keras/engine/training.py\", line 1650, in fit\n      tmp_logs = self.train_function(iterator)\n    File \"/opt/homebrew/Caskroom/miniforge/base/envs/ml/lib/python3.8/site-packages/keras/engine/training.py\", line 1249, in train_function\n      return step_function(self, iterator)\n    File \"/opt/homebrew/Caskroom/miniforge/base/envs/ml/lib/python3.8/site-packages/keras/engine/training.py\", line 1233, in step_function\n      outputs = model.distribute_strategy.run(run_step, args=(data,))\n    File \"/opt/homebrew/Caskroom/miniforge/base/envs/ml/lib/python3.8/site-packages/keras/engine/training.py\", line 1222, in run_step\n      outputs = model.train_step(data)\n    File \"/opt/homebrew/Caskroom/miniforge/base/envs/ml/lib/python3.8/site-packages/keras/engine/training.py\", line 1027, in train_step\n      self.optimizer.minimize(loss, self.trainable_variables, tape=tape)\n    File \"/opt/homebrew/Caskroom/miniforge/base/envs/ml/lib/python3.8/site-packages/keras/optimizers/optimizer_experimental/optimizer.py\", line 527, in minimize\n      self.apply_gradients(grads_and_vars)\n    File \"/opt/homebrew/Caskroom/miniforge/base/envs/ml/lib/python3.8/site-packages/keras/optimizers/optimizer_experimental/optimizer.py\", line 1140, in apply_gradients\n      return super().apply_gradients(grads_and_vars, name=name)\n    File \"/opt/homebrew/Caskroom/miniforge/base/envs/ml/lib/python3.8/site-packages/keras/optimizers/optimizer_experimental/optimizer.py\", line 634, in apply_gradients\n      iteration = self._internal_apply_gradients(grads_and_vars)\n    File \"/opt/homebrew/Caskroom/miniforge/base/envs/ml/lib/python3.8/site-packages/keras/optimizers/optimizer_experimental/optimizer.py\", line 1166, in _internal_apply_gradients\n      return tf.__internal__.distribute.interim.maybe_merge_call(\n    File \"/opt/homebrew/Caskroom/miniforge/base/envs/ml/lib/python3.8/site-packages/keras/optimizers/optimizer_experimental/optimizer.py\", line 1216, in _distributed_apply_gradients_fn\n      distribution.extended.update(\n    File \"/opt/homebrew/Caskroom/miniforge/base/envs/ml/lib/python3.8/site-packages/keras/optimizers/optimizer_experimental/optimizer.py\", line 1211, in apply_grad_to_update_var\n      return self._update_step_xla(grad, var, id(self._var_key(var)))\nNode: 'StatefulPartitionedCall_10'\ncould not find registered platform with id: 0x1625f57f0\n\t [[{{node StatefulPartitionedCall_10}}]] [Op:__inference_train_function_8384]",
     "output_type": "error",
     "traceback": [
      "\u001b[0;31m---------------------------------------------------------------------------\u001b[0m",
      "\u001b[0;31mNotFoundError\u001b[0m                             Traceback (most recent call last)",
      "Cell \u001b[0;32mIn[25], line 1\u001b[0m\n\u001b[0;32m----> 1\u001b[0m model\u001b[39m.\u001b[39;49mfit(X_train,Y_train,validation_data\u001b[39m=\u001b[39;49m(X_test,Y_test),epochs\u001b[39m=\u001b[39;49m\u001b[39m200\u001b[39;49m,batch_size\u001b[39m=\u001b[39;49m\u001b[39m15\u001b[39;49m,verbose\u001b[39m=\u001b[39;49m\u001b[39m1\u001b[39;49m)\n",
      "File \u001b[0;32m/opt/homebrew/Caskroom/miniforge/base/envs/ml/lib/python3.8/site-packages/keras/utils/traceback_utils.py:70\u001b[0m, in \u001b[0;36mfilter_traceback.<locals>.error_handler\u001b[0;34m(*args, **kwargs)\u001b[0m\n\u001b[1;32m     67\u001b[0m     filtered_tb \u001b[39m=\u001b[39m _process_traceback_frames(e\u001b[39m.\u001b[39m__traceback__)\n\u001b[1;32m     68\u001b[0m     \u001b[39m# To get the full stack trace, call:\u001b[39;00m\n\u001b[1;32m     69\u001b[0m     \u001b[39m# `tf.debugging.disable_traceback_filtering()`\u001b[39;00m\n\u001b[0;32m---> 70\u001b[0m     \u001b[39mraise\u001b[39;00m e\u001b[39m.\u001b[39mwith_traceback(filtered_tb) \u001b[39mfrom\u001b[39;00m \u001b[39mNone\u001b[39m\n\u001b[1;32m     71\u001b[0m \u001b[39mfinally\u001b[39;00m:\n\u001b[1;32m     72\u001b[0m     \u001b[39mdel\u001b[39;00m filtered_tb\n",
      "File \u001b[0;32m/opt/homebrew/Caskroom/miniforge/base/envs/ml/lib/python3.8/site-packages/tensorflow/python/eager/execute.py:52\u001b[0m, in \u001b[0;36mquick_execute\u001b[0;34m(op_name, num_outputs, inputs, attrs, ctx, name)\u001b[0m\n\u001b[1;32m     50\u001b[0m \u001b[39mtry\u001b[39;00m:\n\u001b[1;32m     51\u001b[0m   ctx\u001b[39m.\u001b[39mensure_initialized()\n\u001b[0;32m---> 52\u001b[0m   tensors \u001b[39m=\u001b[39m pywrap_tfe\u001b[39m.\u001b[39mTFE_Py_Execute(ctx\u001b[39m.\u001b[39m_handle, device_name, op_name,\n\u001b[1;32m     53\u001b[0m                                       inputs, attrs, num_outputs)\n\u001b[1;32m     54\u001b[0m \u001b[39mexcept\u001b[39;00m core\u001b[39m.\u001b[39m_NotOkStatusException \u001b[39mas\u001b[39;00m e:\n\u001b[1;32m     55\u001b[0m   \u001b[39mif\u001b[39;00m name \u001b[39mis\u001b[39;00m \u001b[39mnot\u001b[39;00m \u001b[39mNone\u001b[39;00m:\n",
      "\u001b[0;31mNotFoundError\u001b[0m: Graph execution error:\n\nDetected at node 'StatefulPartitionedCall_10' defined at (most recent call last):\n    File \"/opt/homebrew/Caskroom/miniforge/base/envs/ml/lib/python3.8/runpy.py\", line 194, in _run_module_as_main\n      return _run_code(code, main_globals, None,\n    File \"/opt/homebrew/Caskroom/miniforge/base/envs/ml/lib/python3.8/runpy.py\", line 87, in _run_code\n      exec(code, run_globals)\n    File \"/opt/homebrew/Caskroom/miniforge/base/envs/ml/lib/python3.8/site-packages/ipykernel_launcher.py\", line 17, in <module>\n      app.launch_new_instance()\n    File \"/opt/homebrew/Caskroom/miniforge/base/envs/ml/lib/python3.8/site-packages/traitlets/config/application.py\", line 1041, in launch_instance\n      app.start()\n    File \"/opt/homebrew/Caskroom/miniforge/base/envs/ml/lib/python3.8/site-packages/ipykernel/kernelapp.py\", line 724, in start\n      self.io_loop.start()\n    File \"/opt/homebrew/Caskroom/miniforge/base/envs/ml/lib/python3.8/site-packages/tornado/platform/asyncio.py\", line 215, in start\n      self.asyncio_loop.run_forever()\n    File \"/opt/homebrew/Caskroom/miniforge/base/envs/ml/lib/python3.8/asyncio/base_events.py\", line 570, in run_forever\n      self._run_once()\n    File \"/opt/homebrew/Caskroom/miniforge/base/envs/ml/lib/python3.8/asyncio/base_events.py\", line 1859, in _run_once\n      handle._run()\n    File \"/opt/homebrew/Caskroom/miniforge/base/envs/ml/lib/python3.8/asyncio/events.py\", line 81, in _run\n      self._context.run(self._callback, *self._args)\n    File \"/opt/homebrew/Caskroom/miniforge/base/envs/ml/lib/python3.8/site-packages/ipykernel/kernelbase.py\", line 512, in dispatch_queue\n      await self.process_one()\n    File \"/opt/homebrew/Caskroom/miniforge/base/envs/ml/lib/python3.8/site-packages/ipykernel/kernelbase.py\", line 501, in process_one\n      await dispatch(*args)\n    File \"/opt/homebrew/Caskroom/miniforge/base/envs/ml/lib/python3.8/site-packages/ipykernel/kernelbase.py\", line 408, in dispatch_shell\n      await result\n    File \"/opt/homebrew/Caskroom/miniforge/base/envs/ml/lib/python3.8/site-packages/ipykernel/kernelbase.py\", line 731, in execute_request\n      reply_content = await reply_content\n    File \"/opt/homebrew/Caskroom/miniforge/base/envs/ml/lib/python3.8/site-packages/ipykernel/ipkernel.py\", line 417, in do_execute\n      res = shell.run_cell(\n    File \"/opt/homebrew/Caskroom/miniforge/base/envs/ml/lib/python3.8/site-packages/ipykernel/zmqshell.py\", line 540, in run_cell\n      return super().run_cell(*args, **kwargs)\n    File \"/opt/homebrew/Caskroom/miniforge/base/envs/ml/lib/python3.8/site-packages/IPython/core/interactiveshell.py\", line 2945, in run_cell\n      result = self._run_cell(\n    File \"/opt/homebrew/Caskroom/miniforge/base/envs/ml/lib/python3.8/site-packages/IPython/core/interactiveshell.py\", line 3000, in _run_cell\n      return runner(coro)\n    File \"/opt/homebrew/Caskroom/miniforge/base/envs/ml/lib/python3.8/site-packages/IPython/core/async_helpers.py\", line 129, in _pseudo_sync_runner\n      coro.send(None)\n    File \"/opt/homebrew/Caskroom/miniforge/base/envs/ml/lib/python3.8/site-packages/IPython/core/interactiveshell.py\", line 3203, in run_cell_async\n      has_raised = await self.run_ast_nodes(code_ast.body, cell_name,\n    File \"/opt/homebrew/Caskroom/miniforge/base/envs/ml/lib/python3.8/site-packages/IPython/core/interactiveshell.py\", line 3382, in run_ast_nodes\n      if await self.run_code(code, result, async_=asy):\n    File \"/opt/homebrew/Caskroom/miniforge/base/envs/ml/lib/python3.8/site-packages/IPython/core/interactiveshell.py\", line 3442, in run_code\n      exec(code_obj, self.user_global_ns, self.user_ns)\n    File \"/var/folders/_9/j788256j04l0rf54jz7ntfvw0000gn/T/ipykernel_21545/2281231562.py\", line 1, in <module>\n      model.fit(X_train,Y_train,validation_data=(X_test,Y_test),epochs=200,batch_size=15,verbose=1)\n    File \"/opt/homebrew/Caskroom/miniforge/base/envs/ml/lib/python3.8/site-packages/keras/utils/traceback_utils.py\", line 65, in error_handler\n      return fn(*args, **kwargs)\n    File \"/opt/homebrew/Caskroom/miniforge/base/envs/ml/lib/python3.8/site-packages/keras/engine/training.py\", line 1650, in fit\n      tmp_logs = self.train_function(iterator)\n    File \"/opt/homebrew/Caskroom/miniforge/base/envs/ml/lib/python3.8/site-packages/keras/engine/training.py\", line 1249, in train_function\n      return step_function(self, iterator)\n    File \"/opt/homebrew/Caskroom/miniforge/base/envs/ml/lib/python3.8/site-packages/keras/engine/training.py\", line 1233, in step_function\n      outputs = model.distribute_strategy.run(run_step, args=(data,))\n    File \"/opt/homebrew/Caskroom/miniforge/base/envs/ml/lib/python3.8/site-packages/keras/engine/training.py\", line 1222, in run_step\n      outputs = model.train_step(data)\n    File \"/opt/homebrew/Caskroom/miniforge/base/envs/ml/lib/python3.8/site-packages/keras/engine/training.py\", line 1027, in train_step\n      self.optimizer.minimize(loss, self.trainable_variables, tape=tape)\n    File \"/opt/homebrew/Caskroom/miniforge/base/envs/ml/lib/python3.8/site-packages/keras/optimizers/optimizer_experimental/optimizer.py\", line 527, in minimize\n      self.apply_gradients(grads_and_vars)\n    File \"/opt/homebrew/Caskroom/miniforge/base/envs/ml/lib/python3.8/site-packages/keras/optimizers/optimizer_experimental/optimizer.py\", line 1140, in apply_gradients\n      return super().apply_gradients(grads_and_vars, name=name)\n    File \"/opt/homebrew/Caskroom/miniforge/base/envs/ml/lib/python3.8/site-packages/keras/optimizers/optimizer_experimental/optimizer.py\", line 634, in apply_gradients\n      iteration = self._internal_apply_gradients(grads_and_vars)\n    File \"/opt/homebrew/Caskroom/miniforge/base/envs/ml/lib/python3.8/site-packages/keras/optimizers/optimizer_experimental/optimizer.py\", line 1166, in _internal_apply_gradients\n      return tf.__internal__.distribute.interim.maybe_merge_call(\n    File \"/opt/homebrew/Caskroom/miniforge/base/envs/ml/lib/python3.8/site-packages/keras/optimizers/optimizer_experimental/optimizer.py\", line 1216, in _distributed_apply_gradients_fn\n      distribution.extended.update(\n    File \"/opt/homebrew/Caskroom/miniforge/base/envs/ml/lib/python3.8/site-packages/keras/optimizers/optimizer_experimental/optimizer.py\", line 1211, in apply_grad_to_update_var\n      return self._update_step_xla(grad, var, id(self._var_key(var)))\nNode: 'StatefulPartitionedCall_10'\ncould not find registered platform with id: 0x1625f57f0\n\t [[{{node StatefulPartitionedCall_10}}]] [Op:__inference_train_function_8384]"
     ]
    }
   ],
   "source": [
    "model.fit(X_train,Y_train,validation_data=(X_test,Y_test),epochs=200,batch_size=15,verbose=1)"
   ]
  },
  {
   "cell_type": "code",
   "execution_count": null,
   "metadata": {},
   "outputs": [],
   "source": [
    "train_predict=model.predict(X_train)\n",
    "test_predict=model.predict(X_test)"
   ]
  },
  {
   "cell_type": "code",
   "execution_count": null,
   "metadata": {},
   "outputs": [],
   "source": [
    "train_predict=scaler.inverse_transform(train_predict)\n",
    "test_predict=scaler.inverse_transform(test_predict)"
   ]
  },
  {
   "cell_type": "code",
   "execution_count": null,
   "metadata": {},
   "outputs": [
    {
     "data": {
      "text/plain": [
       "177.67501969421855"
      ]
     },
     "execution_count": 136,
     "metadata": {},
     "output_type": "execute_result"
    }
   ],
   "source": [
    "import math\n",
    "from sklearn.metrics import mean_squared_error\n",
    "math.sqrt(mean_squared_error(Y_train,train_predict))"
   ]
  },
  {
   "cell_type": "code",
   "execution_count": null,
   "metadata": {},
   "outputs": [
    {
     "data": {
      "text/plain": [
       "128.15113205044105"
      ]
     },
     "execution_count": 137,
     "metadata": {},
     "output_type": "execute_result"
    }
   ],
   "source": [
    "math.sqrt(mean_squared_error(Y_test, test_predict))"
   ]
  },
  {
   "cell_type": "code",
   "execution_count": null,
   "metadata": {},
   "outputs": [],
   "source": [
    "### Plotting\n",
    "\n",
    "look_back=100\n",
    "trainPredictPlot= np.empty_like(df2)\n",
    "trainPredictPlot[:,:]=np.nan\n",
    "trainPredictPlot[look_back:len(train_predict)+look_back,:] = train_predict\n",
    "\n",
    "\n",
    "testPredictPlot=np.empty_like(df2)\n",
    "testPredictPlot[:,:]=np.nan\n",
    "testPredictPlot[len(train_predict)+(look_back*2)+1:len(df2)-1,:]= test_predict"
   ]
  },
  {
   "cell_type": "code",
   "execution_count": null,
   "metadata": {},
   "outputs": [
    {
     "data": {
      "image/png": "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",
      "text/plain": [
       "<Figure size 432x288 with 1 Axes>"
      ]
     },
     "metadata": {
      "needs_background": "light"
     },
     "output_type": "display_data"
    }
   ],
   "source": [
    "plt.plot(scaler.inverse_transform(df2))\n",
    "plt.plot(trainPredictPlot)\n",
    "plt.plot(testPredictPlot)\n",
    "plt.show()"
   ]
  },
  {
   "cell_type": "code",
   "execution_count": null,
   "metadata": {},
   "outputs": [],
   "source": []
  },
  {
   "cell_type": "code",
   "execution_count": null,
   "metadata": {},
   "outputs": [],
   "source": []
  }
 ],
 "metadata": {
  "interpreter": {
   "hash": "985b34c8c0c0acd4105f03c6f1f0afc2bceef8452e49b305f4cf835a15ba0c7d"
  },
  "kernelspec": {
   "display_name": "Python 3.8.6 64-bit ('ml': conda)",
   "language": "python",
   "name": "python3"
  },
  "language_info": {
   "codemirror_mode": {
    "name": "ipython",
    "version": 3
   },
   "file_extension": ".py",
   "mimetype": "text/x-python",
   "name": "python",
   "nbconvert_exporter": "python",
   "pygments_lexer": "ipython3",
   "version": "3.8.6"
  },
  "orig_nbformat": 4
 },
 "nbformat": 4,
 "nbformat_minor": 2
}
